{
 "cells": [
  {
   "cell_type": "code",
   "execution_count": 1,
   "metadata": {},
   "outputs": [
    {
     "name": "stdout",
     "output_type": "stream",
     "text": [
      "Populating the interactive namespace from numpy and matplotlib\n"
     ]
    }
   ],
   "source": [
    "%pylab inline\n",
    "\n",
    "import os,sys\n",
    "import numpy as np\n",
    "import scipy as sp\n",
    "import pandas as pd\n",
    "import matplotlib as mpl\n",
    "import matplotlib.gridspec as gridspec\n",
    "\n",
    "from collections import defaultdict, Counter, OrderedDict\n",
    "\n",
    "import cytograph as cg\n",
    "import loompy\n",
    "import palettable\n",
    "\n",
    "sys.path.append(os.path.realpath(os.path.join(os.getcwd(), '..', '..')))\n",
    "from scbeta_scrnaseq import utils\n",
    "from scbeta_scrnaseq import vis\n",
    "import scbeta_scrnaseq.cytograph_inmem_utils as cgm\n",
    "import scbeta_scrnaseq.cytograph_analyses as cga\n",
    "\n"
   ]
  },
  {
   "cell_type": "code",
   "execution_count": 2,
   "metadata": {},
   "outputs": [],
   "source": [
    "full_ds = loompy.connect(f'../data/complete_processing/stage6.processed.loom', 'r')\n",
    "full_ds.vals = sp.sparse.csr_matrix(full_ds.layers[\"\"][:, :])\n"
   ]
  },
  {
   "cell_type": "markdown",
   "metadata": {},
   "source": [
    "### Make a copy of loom file, keeping only the SC-beta cells"
   ]
  },
  {
   "cell_type": "code",
   "execution_count": 3,
   "metadata": {},
   "outputs": [],
   "source": [
    "%mkdir ../data/pseudotime/\n",
    "attributes_to_copy = ['CellID', 'CellBatch', 'CellWeek', 'CellFlask', 'DetailedLabels', 'Labels', '_TrainFilter', '_Valid']\n",
    "\n",
    "f_cells = np.where(full_ds.ca.Labels == 'scbeta')[0]\n",
    "min_cells_per_valid_gene = 10\n",
    "%rm f'../data/pseudotime/stage6.scbeta_pseudotime.loom'\n",
    "loompy.create(f'../data/pseudotime/stage6.scbeta_pseudotime.loom',\n",
    "              {'': full_ds.vals[:, f_cells]},\n",
    "              {'Gene': full_ds.ra.Gene,\n",
    "               '_Valid': (full_ds.vals[:, f_cells].sum(1).A.ravel() > min_cells_per_valid_gene),\n",
    "               '_Regress': (full_ds.vals[:, f_cells].sum(1).A.ravel() > min_cells_per_valid_gene),\n",
    "                  },\n",
    "              {a: full_ds.ca[a][f_cells] for a in attributes_to_copy},\n",
    "             )\n",
    "full_ds.close()"
   ]
  },
  {
   "cell_type": "markdown",
   "metadata": {},
   "source": [
    "### Computation of pseudotime"
   ]
  },
  {
   "cell_type": "code",
   "execution_count": 4,
   "metadata": {},
   "outputs": [],
   "source": [
    "full_ds.close()"
   ]
  },
  {
   "cell_type": "code",
   "execution_count": 5,
   "metadata": {},
   "outputs": [],
   "source": [
    "ds = loompy.connect(f'../data/pseudotime/stage6.scbeta_pseudotime.loom')\n",
    "ds.vals = sp.sparse.csr_matrix(ds.layers[\"\"][:, :])"
   ]
  },
  {
   "cell_type": "code",
   "execution_count": 6,
   "metadata": {},
   "outputs": [],
   "source": [
    "seed = 91829211\n",
    "tds = {}\n",
    "for tp in ['scbeta_pseudotime']:\n",
    "    tds[tp] = loompy.connect(f'../data/pseudotime/stage6.{tp}.loom')\n",
    "    tds[tp].vals = sp.sparse.csr_matrix(tds[tp].layers[\"\"][:, :])\n",
    "    _tds = tds[tp]\n",
    "    \n",
    "    _valid_genes = _tds.ra._Valid\n",
    "#     _valid_genes[np.where(np.isin(_tds.ra.Gene, list(cell_cycle_set)))[0]] = 0\n",
    "    _tds.ra._Valid = _valid_genes\n",
    "    \n",
    "    cga.highvar_pca(_tds, _tds.vals, namespace='', seed=seed,\n",
    "                train_cells=np.where(_tds.ca['_TrainFilter'] > 0)[0],\n",
    "                n_highvar_pcs=50,\n",
    "                n_highvar_genes=2000)\n",
    "    \n",
    "#     tds.ca[\"HighVarTSNE\"] = cg.TSNE(perplexity=100).layout(tds.ca[r\"HighVarPCA\"][:, :10])"
   ]
  },
  {
   "cell_type": "code",
   "execution_count": 7,
   "metadata": {},
   "outputs": [
    {
     "name": "stderr",
     "output_type": "stream",
     "text": [
      "/Users/averes/miniconda3/envs/py36/lib/python3.6/site-packages/scanpy/neighbors/__init__.py:856: RuntimeWarning: invalid value encountered in sqrt\n",
      "  return np.sqrt(row)\n"
     ]
    }
   ],
   "source": [
    "time_alignment_vector = {\n",
    "    'scbeta_pseudotime': pd.Series(tds['scbeta_pseudotime'].ca.CellWeek, tds['scbeta_pseudotime'].ca.CellID),\n",
    "               }\n",
    "\n",
    "for tp in tds.keys():\n",
    "    _tds = tds[tp]\n",
    "    import scanpy.api as sc\n",
    "    adata = sc.AnnData(_tds.ca.HighVarPCA[:, :10])\n",
    "    adata.obs_names = _tds.ca.CellID\n",
    "    adata.obsm['X_pca'] = _tds.ca.HighVarPCA[:, :10]\n",
    "    sc.pp.neighbors(adata, n_neighbors = 100, n_pcs = adata.obsm['X_pca'].shape[1])\n",
    "    sc.tl.diffmap(adata)\n",
    "    \n",
    "    _tds.ca['DiffMap'] = adata.obsm['X_diffmap']\n",
    "    \n",
    "    diffmap1_time_corr = pd.Series(adata.obsm['X_diffmap'][:, 1], _tds.ca.CellID).corr(time_alignment_vector[tp])\n",
    "    adata.uns['iroot'] = adata.obsm['X_diffmap'][:, 1].argmin() if diffmap1_time_corr>0 else adata.obsm['X_diffmap'][:, 1].argmax()\n",
    "    sc.tl.dpt(adata, n_branchings=0, n_dcs=4,  min_group_size=1000)\n",
    "    \n",
    "    _tds.ca['Pseudotime'] = adata.obs['dpt_pseudotime'][_tds.ca.CellID].values\n",
    "    _tds.ca['PseudotimeRank'] = adata.obs['dpt_pseudotime'].rank()[_tds.ca.CellID].values\n"
   ]
  },
  {
   "cell_type": "code",
   "execution_count": null,
   "metadata": {},
   "outputs": [],
   "source": [
    "#(not sure why we get that error, but doesn't seem to impact downstream things.)"
   ]
  },
  {
   "cell_type": "markdown",
   "metadata": {},
   "source": [
    "### VGAM regression"
   ]
  },
  {
   "cell_type": "code",
   "execution_count": 1,
   "metadata": {},
   "outputs": [],
   "source": [
    "## Copy file to cluster\n",
    "# %cp -v ../data/pseudotime/stage6.scbeta_pseudotime.loom /Volumes/adrianveres/scbeta_scrnaseq__data/ \n"
   ]
  },
  {
   "cell_type": "code",
   "execution_count": 2,
   "metadata": {},
   "outputs": [],
   "source": [
    "# Execute \"python scbeta_scrnaseq/scripts/vgam_regression_wrapper.py scbeta_scrnaseq__data/stage6.scbeta_pseudotime.loom\"\n",
    "\n",
    "# sbatch -p test -n 4 -N 1 --job-name scbeta --mem 12000 --time 06:00:00 \\\n",
    "#         --wrap \"\"\"source activate py36; module load gcc/7.1.0-fasrc01 R/3.5.0-fasrc02;export R_LIBS_USER=$HOME/apps/R:$R_LIBS_USER;\\\n",
    "#             cd /n/home15/adrianveres; python scbeta_scrnaseq/scripts/vgam_regression_wrapper.py scbeta_scrnaseq__data/stage6.scbeta_pseudotime.loom\"\"\"\n",
    "\n",
    "# Copy the file back"
   ]
  },
  {
   "cell_type": "code",
   "execution_count": null,
   "metadata": {},
   "outputs": [],
   "source": [
    "## Copy file back\n",
    "# %cp -v /Volumes/adrianveres/scbeta_scrnaseq__data/stage6.scbeta_pseudotime.loom ../data/pseudotime/ "
   ]
  },
  {
   "cell_type": "code",
   "execution_count": 2,
   "metadata": {},
   "outputs": [],
   "source": [
    "ds = loompy.connect(f'../data/pseudotime/stage6.scbeta_pseudotime.loom')\n",
    "ds.vals = sp.sparse.csr_matrix(ds.layers[\"\"][:, :])"
   ]
  },
  {
   "cell_type": "code",
   "execution_count": 3,
   "metadata": {},
   "outputs": [],
   "source": [
    "from scbeta_scrnaseq.pseudotime import annotate_vgam_ds"
   ]
  },
  {
   "cell_type": "code",
   "execution_count": 4,
   "metadata": {},
   "outputs": [],
   "source": [
    "annotate_vgam_ds(ds)"
   ]
  },
  {
   "cell_type": "code",
   "execution_count": null,
   "metadata": {},
   "outputs": [],
   "source": [
    "# Output order of pseudotime ranks for \n",
    "pd.Series(scb_ds.ra['Pred__pseudotime__log2fc__start_end'], scb_ds.ra.Gene).fillna(0.0).to_csv('12_18.scbeta_pseudotime_fc.rnk', sep='\\t')\n",
    "\n"
   ]
  }
 ],
 "metadata": {
  "kernelspec": {
   "display_name": "Python 3",
   "language": "python",
   "name": "python3"
  },
  "language_info": {
   "codemirror_mode": {
    "name": "ipython",
    "version": 3
   },
   "file_extension": ".py",
   "mimetype": "text/x-python",
   "name": "python",
   "nbconvert_exporter": "python",
   "pygments_lexer": "ipython3",
   "version": "3.7.1"
  }
 },
 "nbformat": 4,
 "nbformat_minor": 2
}
