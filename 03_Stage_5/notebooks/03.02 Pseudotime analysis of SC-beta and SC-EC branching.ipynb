{
 "cells": [
  {
   "cell_type": "code",
   "execution_count": 1,
   "metadata": {},
   "outputs": [
    {
     "name": "stdout",
     "output_type": "stream",
     "text": [
      "Populating the interactive namespace from numpy and matplotlib\n"
     ]
    }
   ],
   "source": [
    "%pylab inline\n",
    "\n",
    "import os,sys\n",
    "import numpy as np\n",
    "import scipy as sp\n",
    "import pandas as pd\n",
    "import matplotlib as mpl\n",
    "import matplotlib.gridspec as gridspec\n",
    "\n",
    "from collections import defaultdict, Counter, OrderedDict\n",
    "\n",
    "import cytograph as cg\n",
    "import loompy\n",
    "import palettable\n",
    "\n",
    "sys.path.append(os.path.realpath(os.path.join(os.getcwd(), '..', '..')))\n",
    "from scbeta_scrnaseq import utils\n",
    "from scbeta_scrnaseq import vis\n",
    "import scbeta_scrnaseq.cytograph_inmem_utils as cgm\n",
    "import scbeta_scrnaseq.cytograph_analyses as cga\n",
    "\n"
   ]
  },
  {
   "cell_type": "markdown",
   "metadata": {},
   "source": [
    "### Extract cells on the neurog3 trajectory"
   ]
  },
  {
   "cell_type": "code",
   "execution_count": 2,
   "metadata": {},
   "outputs": [],
   "source": [
    "full_ds = loompy.connect(f'../data/complete_processing/stage5.processed.loom', 'r')\n",
    "full_ds.vals = sp.sparse.csr_matrix(full_ds.layers[\"\"][:, :])\n"
   ]
  },
  {
   "cell_type": "code",
   "execution_count": 3,
   "metadata": {},
   "outputs": [],
   "source": [
    "%mkdir ../data/pseudotime/\n",
    "attributes_to_copy = ['CellID', 'CellBatch', 'CellDay', 'CellFlask', 'DetailedLabels', 'Labels', '_TrainFilter', '_Valid']\n",
    "\n",
    "f_clusters = np.isin(full_ds.ca.DetailedLabels, ['scbeta', 'ec', 'neurog3_late', 'neurog3_mid', 'neurog3_early', 'prog_nkx61'])\n",
    "f_cells = np.where((f_clusters))[0]\n",
    "min_cells_per_valid_gene = 10\n",
    "\n",
    "%rm ../data/pseudotime/stage5.scbeta_ec_neurog3.loom\n",
    "loompy.create(f'../data/pseudotime/stage5.scbeta_ec_neurog3_prog.loom',\n",
    "              {'': full_ds.vals[:, f_cells]},\n",
    "              {'Gene': full_ds.ra.Gene,\n",
    "               '_Valid': (full_ds.vals[:, f_cells].sum(1).A.ravel() > min_cells_per_valid_gene),\n",
    "               '_Regress': (full_ds.vals[:, f_cells].sum(1).A.ravel() > min_cells_per_valid_gene),\n",
    "                  },\n",
    "              {a: full_ds.ca[a][f_cells] for a in attributes_to_copy},\n",
    "             )\n",
    "full_ds.close()"
   ]
  },
  {
   "cell_type": "code",
   "execution_count": 4,
   "metadata": {},
   "outputs": [],
   "source": [
    "import json\n",
    "with open('../../01_Stages_3_to_6/data/original/cell_cycle_genes.json', 'r') as f:\n",
    "    cell_cycle_set = set(json.load(f))\n",
    "     "
   ]
  },
  {
   "cell_type": "code",
   "execution_count": 5,
   "metadata": {},
   "outputs": [],
   "source": [
    "tds = {}\n",
    "fn = 'scbeta_ec_neurog3_prog'\n",
    "tds[fn] = loompy.connect(f'../data/pseudotime/stage5.{fn}.loom')\n",
    "_tds = tds[fn]"
   ]
  },
  {
   "cell_type": "code",
   "execution_count": 6,
   "metadata": {},
   "outputs": [],
   "source": [
    "seed = 91829211\n",
    "tds = {}\n",
    "\n",
    "for tp in [fn]:\n",
    "    tds[tp] = loompy.connect(f'../data/pseudotime/stage5.{tp}.loom')\n",
    "    tds[tp].vals = sp.sparse.csr_matrix(tds[tp].layers[\"\"][:, :])\n",
    "    _tds = tds[tp]\n",
    "    \n",
    "    _valid_genes = _tds.ra._Valid\n",
    "    _valid_genes[np.where(np.isin(_tds.ra.Gene, list(cell_cycle_set)))[0]] = 0\n",
    "    _tds.ra._Valid = _valid_genes\n",
    "    \n",
    "    cga.highvar_pca(_tds, _tds.vals, namespace='', seed=seed,\n",
    "                train_cells=np.where(_tds.ca['_TrainFilter'] > 0)[0],\n",
    "                n_highvar_pcs=50,\n",
    "                n_highvar_genes=2000)\n",
    "    \n",
    "#     tds.ca[\"HighVarTSNE\"] = cg.TSNE(perplexity=100).layout(tds.ca[r\"HighVarPCA\"][:, :10])"
   ]
  },
  {
   "cell_type": "code",
   "execution_count": null,
   "metadata": {},
   "outputs": [],
   "source": [
    "# seed = 91829211\n",
    "# for tp in range(2):\n",
    "#     _tds = tds[tp]\n",
    "#     _tds.ca[\"HighVarTSNE\"] = cg.TSNE(perplexity=100).layout(_tds.ca[r\"HighVarPCA\"][:, :10])"
   ]
  },
  {
   "cell_type": "markdown",
   "metadata": {},
   "source": [
    "### Computation of pseudotime"
   ]
  },
  {
   "cell_type": "code",
   "execution_count": 7,
   "metadata": {},
   "outputs": [],
   "source": [
    "time_alignment_vector = {}\n",
    "time_alignment_vector[fn] = pd.Series(tds[fn].ca.CellDay, tds[fn].ca.CellID)\n",
    "\n",
    "for tp in tds.keys():\n",
    "    _tds = tds[tp]\n",
    "    import scanpy.api as sc\n",
    "    adata = sc.AnnData(_tds.ca.HighVarPCA[:, :10])\n",
    "    adata.obs_names = _tds.ca.CellID\n",
    "    adata.obsm['X_pca'] = _tds.ca.HighVarPCA[:, :10]\n",
    "    sc.pp.neighbors(adata, n_neighbors = 100, n_pcs = adata.obsm['X_pca'].shape[1])\n",
    "    sc.tl.diffmap(adata)\n",
    "    \n",
    "    _tds.ca['DiffMap'] = adata.obsm['X_diffmap']\n",
    "    \n",
    "    diffmap1_time_corr = pd.Series(adata.obsm['X_diffmap'][:, 1], _tds.ca.CellID).corr(time_alignment_vector[tp])\n",
    "    adata.uns['iroot'] = adata.obsm['X_diffmap'][:, 1].argmin() if diffmap1_time_corr>0 else adata.obsm['X_diffmap'][:, 1].argmax()\n",
    "    sc.tl.dpt(adata, n_branchings=0, n_dcs=10,  min_group_size=1000)\n",
    "    "
   ]
  },
  {
   "cell_type": "code",
   "execution_count": 8,
   "metadata": {},
   "outputs": [],
   "source": [
    "grp0 = np.isin(_tds.ca.Labels, ['neurog3_late', 'neurog3_mid', 'neurog3_early', 'prog_nkx61'])\n",
    "grp1 = np.isin(_tds.ca.Labels, ['scbeta'])\n",
    "grp2 = np.isin(_tds.ca.Labels, ['ec'])\n",
    "\n",
    "np.random.seed(1039094)\n",
    "branch = pd.Series(0, index=adata.obs['dpt_pseudotime'].index)\n",
    "branch[grp0] = np.random.randint(0,2,sum(grp0))\n",
    "branch[grp1] = 1\n",
    "branch[grp2] = 0\n",
    "\n",
    "pseudotime = pd.Series(0, index=adata.obs['dpt_pseudotime'].index)\n",
    "\n",
    "_tip_val = 0.50\n",
    "for b in [0, 1]:\n",
    "    n_branch_tip = sum(branch==b) - sum((branch == b) & ~(grp0))\n",
    "\n",
    "    _shared = adata.obs['dpt_pseudotime'][branch==b].rank() <= n_branch_tip\n",
    "    _tip = ~_shared\n",
    "    \n",
    "    _shared = _shared[_shared].index\n",
    "    _tip = _tip[_tip].index\n",
    "\n",
    "    pseudotime[_shared] = adata.obs['dpt_pseudotime'][_shared].rank()/len(_shared) * _tip_val\n",
    "    pseudotime[_tip] = _tip_val + (adata.obs['dpt_pseudotime'][_tip].rank()/len(_tip) * _tip_val)"
   ]
  },
  {
   "cell_type": "code",
   "execution_count": 9,
   "metadata": {},
   "outputs": [],
   "source": [
    "_tds.ca.PseudotimeBranch = branch[_tds.ca.CellID].values\n",
    "_tds.ca.PseudotimeRank = pseudotime[_tds.ca.CellID].values"
   ]
  },
  {
   "cell_type": "code",
   "execution_count": 13,
   "metadata": {},
   "outputs": [
    {
     "name": "stdout",
     "output_type": "stream",
     "text": [
      "../data/pseudotime/stage5.scbeta_ec_neurog3_prog.loom -> /Volumes/adrianveres/scbeta_scrnaseq__data/stage5.scbeta_ec_neurog3_prog.loom\r\n"
     ]
    }
   ],
   "source": [
    "# copy to cluster\n",
    "_tds.close()\n",
    "%cp -v ../data/pseudotime/stage5.scbeta_ec_neurog3_prog.loom /Volumes/adrianveres/scbeta_scrnaseq__data/"
   ]
  },
  {
   "cell_type": "code",
   "execution_count": null,
   "metadata": {},
   "outputs": [],
   "source": [
    "# Execute \"python scbeta_scrnaseq/scripts/vgam_regression_wrapper.py scbeta_scrnaseq__data/stage5.scbeta_ec_neurog3_prog.loom\"\n",
    "\n",
    "# sbatch -p test -n 4 -N 1 --job-name ngn3 --mem 12000 --time 06:00:00 \\\n",
    "#         --wrap \"\"\"source activate py36; module load gcc/7.1.0-fasrc01 R/3.5.0-fasrc02;export R_LIBS_USER=$HOME/apps/R:$R_LIBS_USER;\\\n",
    "#             cd /n/home15/adrianveres; python scbeta_scrnaseq/scripts/vgam_regression_wrapper.py scbeta_scrnaseq__data/stage5.scbeta_ec_neurog3_prog.loom\"\"\"\n",
    "        "
   ]
  },
  {
   "cell_type": "code",
   "execution_count": null,
   "metadata": {},
   "outputs": [],
   "source": [
    "# Copy the file back\n",
    "# %cp -v /Volumes/adrianveres/scbeta_scrnaseq__data/stage5.scbeta_ec_neurog3_prog.loom  ../data/pseudotime/"
   ]
  },
  {
   "cell_type": "code",
   "execution_count": 25,
   "metadata": {},
   "outputs": [],
   "source": [
    "_tds.close()"
   ]
  },
  {
   "cell_type": "code",
   "execution_count": 1,
   "metadata": {},
   "outputs": [],
   "source": [
    "%cp -v /Volumes/adrianveres/scbeta_scrnaseq__data/stage5.scbeta_ec_neurog3_prog.loom ../data/pseudotime/"
   ]
  },
  {
   "cell_type": "code",
   "execution_count": 27,
   "metadata": {},
   "outputs": [],
   "source": [
    "\n",
    "tds = {}\n",
    "fn = 'scbeta_ec_neurog3_prog'\n",
    "tds[fn] = loompy.connect(f'../data/pseudotime/stage5.{fn}.loom')\n",
    "_tds = tds[fn]\n",
    "\n",
    "from scbeta_scrnaseq.pseudotime import annotate_vgam_ds\n",
    "annotate_vgam_ds(_tds)"
   ]
  }
 ],
 "metadata": {
  "kernelspec": {
   "display_name": "Python 3",
   "language": "python",
   "name": "python3"
  },
  "language_info": {
   "codemirror_mode": {
    "name": "ipython",
    "version": 3
   },
   "file_extension": ".py",
   "mimetype": "text/x-python",
   "name": "python",
   "nbconvert_exporter": "python",
   "pygments_lexer": "ipython3",
   "version": "3.7.1"
  }
 },
 "nbformat": 4,
 "nbformat_minor": 2
}
